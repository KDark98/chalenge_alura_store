{
  "nbformat": 4,
  "nbformat_minor": 0,
  "metadata": {
    "colab": {
      "provenance": []
    },
    "kernelspec": {
      "name": "python3",
      "display_name": "Python 3"
    },
    "language_info": {
      "name": "python"
    }
  },
  "cells": [
    {
      "cell_type": "markdown",
      "source": [
        "### Importación de datos\n",
        "\n"
      ],
      "metadata": {
        "id": "RhEdWd9YUR6H"
      }
    },
    {
      "cell_type": "code",
      "execution_count": 1,
      "metadata": {
        "colab": {
          "base_uri": "https://localhost:8080/",
          "height": 340
        },
        "id": "T3EvaeQ_INIL",
        "outputId": "b9914f53-fd08-49dc-a600-e59af20b24be"
      },
      "outputs": [
        {
          "output_type": "execute_result",
          "data": {
            "text/plain": [
              "            Producto Categoría del Producto    Precio  Costo de envío  \\\n",
              "0  Asistente virtual           Electrónicos  164300.0          6900.0   \n",
              "1    Mesa de comedor                Muebles  192300.0          8400.0   \n",
              "2      Juego de mesa               Juguetes  209600.0         15900.0   \n",
              "3         Microondas      Electrodomésticos  757500.0         41000.0   \n",
              "4   Silla de oficina                Muebles  335200.0         20200.0   \n",
              "\n",
              "  Fecha de Compra         Vendedor Lugar de Compra  Calificación  \\\n",
              "0      16/01/2021      Pedro Gomez          Bogotá             4   \n",
              "1      18/05/2022  Beatriz Morales        Medellín             1   \n",
              "2      15/03/2021   Juan Fernandez       Cartagena             1   \n",
              "3      03/05/2022   Juan Fernandez            Cali             4   \n",
              "4      07/11/2020    Maria Alfonso        Medellín             5   \n",
              "\n",
              "       Método de pago  Cantidad de cuotas       lat       lon  \n",
              "0  Tarjeta de crédito                   8   4.60971 -74.08175  \n",
              "1  Tarjeta de crédito                   4   6.25184 -75.56359  \n",
              "2  Tarjeta de crédito                   1  10.39972 -75.51444  \n",
              "3               Nequi                   1   3.43722 -76.52250  \n",
              "4               Nequi                   1   6.25184 -75.56359  "
            ],
            "text/html": [
              "\n",
              "  <div id=\"df-244e7798-9b1b-4232-a436-846e0bc55d20\" class=\"colab-df-container\">\n",
              "    <div>\n",
              "<style scoped>\n",
              "    .dataframe tbody tr th:only-of-type {\n",
              "        vertical-align: middle;\n",
              "    }\n",
              "\n",
              "    .dataframe tbody tr th {\n",
              "        vertical-align: top;\n",
              "    }\n",
              "\n",
              "    .dataframe thead th {\n",
              "        text-align: right;\n",
              "    }\n",
              "</style>\n",
              "<table border=\"1\" class=\"dataframe\">\n",
              "  <thead>\n",
              "    <tr style=\"text-align: right;\">\n",
              "      <th></th>\n",
              "      <th>Producto</th>\n",
              "      <th>Categoría del Producto</th>\n",
              "      <th>Precio</th>\n",
              "      <th>Costo de envío</th>\n",
              "      <th>Fecha de Compra</th>\n",
              "      <th>Vendedor</th>\n",
              "      <th>Lugar de Compra</th>\n",
              "      <th>Calificación</th>\n",
              "      <th>Método de pago</th>\n",
              "      <th>Cantidad de cuotas</th>\n",
              "      <th>lat</th>\n",
              "      <th>lon</th>\n",
              "    </tr>\n",
              "  </thead>\n",
              "  <tbody>\n",
              "    <tr>\n",
              "      <th>0</th>\n",
              "      <td>Asistente virtual</td>\n",
              "      <td>Electrónicos</td>\n",
              "      <td>164300.0</td>\n",
              "      <td>6900.0</td>\n",
              "      <td>16/01/2021</td>\n",
              "      <td>Pedro Gomez</td>\n",
              "      <td>Bogotá</td>\n",
              "      <td>4</td>\n",
              "      <td>Tarjeta de crédito</td>\n",
              "      <td>8</td>\n",
              "      <td>4.60971</td>\n",
              "      <td>-74.08175</td>\n",
              "    </tr>\n",
              "    <tr>\n",
              "      <th>1</th>\n",
              "      <td>Mesa de comedor</td>\n",
              "      <td>Muebles</td>\n",
              "      <td>192300.0</td>\n",
              "      <td>8400.0</td>\n",
              "      <td>18/05/2022</td>\n",
              "      <td>Beatriz Morales</td>\n",
              "      <td>Medellín</td>\n",
              "      <td>1</td>\n",
              "      <td>Tarjeta de crédito</td>\n",
              "      <td>4</td>\n",
              "      <td>6.25184</td>\n",
              "      <td>-75.56359</td>\n",
              "    </tr>\n",
              "    <tr>\n",
              "      <th>2</th>\n",
              "      <td>Juego de mesa</td>\n",
              "      <td>Juguetes</td>\n",
              "      <td>209600.0</td>\n",
              "      <td>15900.0</td>\n",
              "      <td>15/03/2021</td>\n",
              "      <td>Juan Fernandez</td>\n",
              "      <td>Cartagena</td>\n",
              "      <td>1</td>\n",
              "      <td>Tarjeta de crédito</td>\n",
              "      <td>1</td>\n",
              "      <td>10.39972</td>\n",
              "      <td>-75.51444</td>\n",
              "    </tr>\n",
              "    <tr>\n",
              "      <th>3</th>\n",
              "      <td>Microondas</td>\n",
              "      <td>Electrodomésticos</td>\n",
              "      <td>757500.0</td>\n",
              "      <td>41000.0</td>\n",
              "      <td>03/05/2022</td>\n",
              "      <td>Juan Fernandez</td>\n",
              "      <td>Cali</td>\n",
              "      <td>4</td>\n",
              "      <td>Nequi</td>\n",
              "      <td>1</td>\n",
              "      <td>3.43722</td>\n",
              "      <td>-76.52250</td>\n",
              "    </tr>\n",
              "    <tr>\n",
              "      <th>4</th>\n",
              "      <td>Silla de oficina</td>\n",
              "      <td>Muebles</td>\n",
              "      <td>335200.0</td>\n",
              "      <td>20200.0</td>\n",
              "      <td>07/11/2020</td>\n",
              "      <td>Maria Alfonso</td>\n",
              "      <td>Medellín</td>\n",
              "      <td>5</td>\n",
              "      <td>Nequi</td>\n",
              "      <td>1</td>\n",
              "      <td>6.25184</td>\n",
              "      <td>-75.56359</td>\n",
              "    </tr>\n",
              "  </tbody>\n",
              "</table>\n",
              "</div>\n",
              "    <div class=\"colab-df-buttons\">\n",
              "\n",
              "  <div class=\"colab-df-container\">\n",
              "    <button class=\"colab-df-convert\" onclick=\"convertToInteractive('df-244e7798-9b1b-4232-a436-846e0bc55d20')\"\n",
              "            title=\"Convert this dataframe to an interactive table.\"\n",
              "            style=\"display:none;\">\n",
              "\n",
              "  <svg xmlns=\"http://www.w3.org/2000/svg\" height=\"24px\" viewBox=\"0 -960 960 960\">\n",
              "    <path d=\"M120-120v-720h720v720H120Zm60-500h600v-160H180v160Zm220 220h160v-160H400v160Zm0 220h160v-160H400v160ZM180-400h160v-160H180v160Zm440 0h160v-160H620v160ZM180-180h160v-160H180v160Zm440 0h160v-160H620v160Z\"/>\n",
              "  </svg>\n",
              "    </button>\n",
              "\n",
              "  <style>\n",
              "    .colab-df-container {\n",
              "      display:flex;\n",
              "      gap: 12px;\n",
              "    }\n",
              "\n",
              "    .colab-df-convert {\n",
              "      background-color: #E8F0FE;\n",
              "      border: none;\n",
              "      border-radius: 50%;\n",
              "      cursor: pointer;\n",
              "      display: none;\n",
              "      fill: #1967D2;\n",
              "      height: 32px;\n",
              "      padding: 0 0 0 0;\n",
              "      width: 32px;\n",
              "    }\n",
              "\n",
              "    .colab-df-convert:hover {\n",
              "      background-color: #E2EBFA;\n",
              "      box-shadow: 0px 1px 2px rgba(60, 64, 67, 0.3), 0px 1px 3px 1px rgba(60, 64, 67, 0.15);\n",
              "      fill: #174EA6;\n",
              "    }\n",
              "\n",
              "    .colab-df-buttons div {\n",
              "      margin-bottom: 4px;\n",
              "    }\n",
              "\n",
              "    [theme=dark] .colab-df-convert {\n",
              "      background-color: #3B4455;\n",
              "      fill: #D2E3FC;\n",
              "    }\n",
              "\n",
              "    [theme=dark] .colab-df-convert:hover {\n",
              "      background-color: #434B5C;\n",
              "      box-shadow: 0px 1px 3px 1px rgba(0, 0, 0, 0.15);\n",
              "      filter: drop-shadow(0px 1px 2px rgba(0, 0, 0, 0.3));\n",
              "      fill: #FFFFFF;\n",
              "    }\n",
              "  </style>\n",
              "\n",
              "    <script>\n",
              "      const buttonEl =\n",
              "        document.querySelector('#df-244e7798-9b1b-4232-a436-846e0bc55d20 button.colab-df-convert');\n",
              "      buttonEl.style.display =\n",
              "        google.colab.kernel.accessAllowed ? 'block' : 'none';\n",
              "\n",
              "      async function convertToInteractive(key) {\n",
              "        const element = document.querySelector('#df-244e7798-9b1b-4232-a436-846e0bc55d20');\n",
              "        const dataTable =\n",
              "          await google.colab.kernel.invokeFunction('convertToInteractive',\n",
              "                                                    [key], {});\n",
              "        if (!dataTable) return;\n",
              "\n",
              "        const docLinkHtml = 'Like what you see? Visit the ' +\n",
              "          '<a target=\"_blank\" href=https://colab.research.google.com/notebooks/data_table.ipynb>data table notebook</a>'\n",
              "          + ' to learn more about interactive tables.';\n",
              "        element.innerHTML = '';\n",
              "        dataTable['output_type'] = 'display_data';\n",
              "        await google.colab.output.renderOutput(dataTable, element);\n",
              "        const docLink = document.createElement('div');\n",
              "        docLink.innerHTML = docLinkHtml;\n",
              "        element.appendChild(docLink);\n",
              "      }\n",
              "    </script>\n",
              "  </div>\n",
              "\n",
              "\n",
              "    <div id=\"df-715a81a4-1e75-45a3-9aa2-60ab3ae9be18\">\n",
              "      <button class=\"colab-df-quickchart\" onclick=\"quickchart('df-715a81a4-1e75-45a3-9aa2-60ab3ae9be18')\"\n",
              "                title=\"Suggest charts\"\n",
              "                style=\"display:none;\">\n",
              "\n",
              "<svg xmlns=\"http://www.w3.org/2000/svg\" height=\"24px\"viewBox=\"0 0 24 24\"\n",
              "     width=\"24px\">\n",
              "    <g>\n",
              "        <path d=\"M19 3H5c-1.1 0-2 .9-2 2v14c0 1.1.9 2 2 2h14c1.1 0 2-.9 2-2V5c0-1.1-.9-2-2-2zM9 17H7v-7h2v7zm4 0h-2V7h2v10zm4 0h-2v-4h2v4z\"/>\n",
              "    </g>\n",
              "</svg>\n",
              "      </button>\n",
              "\n",
              "<style>\n",
              "  .colab-df-quickchart {\n",
              "      --bg-color: #E8F0FE;\n",
              "      --fill-color: #1967D2;\n",
              "      --hover-bg-color: #E2EBFA;\n",
              "      --hover-fill-color: #174EA6;\n",
              "      --disabled-fill-color: #AAA;\n",
              "      --disabled-bg-color: #DDD;\n",
              "  }\n",
              "\n",
              "  [theme=dark] .colab-df-quickchart {\n",
              "      --bg-color: #3B4455;\n",
              "      --fill-color: #D2E3FC;\n",
              "      --hover-bg-color: #434B5C;\n",
              "      --hover-fill-color: #FFFFFF;\n",
              "      --disabled-bg-color: #3B4455;\n",
              "      --disabled-fill-color: #666;\n",
              "  }\n",
              "\n",
              "  .colab-df-quickchart {\n",
              "    background-color: var(--bg-color);\n",
              "    border: none;\n",
              "    border-radius: 50%;\n",
              "    cursor: pointer;\n",
              "    display: none;\n",
              "    fill: var(--fill-color);\n",
              "    height: 32px;\n",
              "    padding: 0;\n",
              "    width: 32px;\n",
              "  }\n",
              "\n",
              "  .colab-df-quickchart:hover {\n",
              "    background-color: var(--hover-bg-color);\n",
              "    box-shadow: 0 1px 2px rgba(60, 64, 67, 0.3), 0 1px 3px 1px rgba(60, 64, 67, 0.15);\n",
              "    fill: var(--button-hover-fill-color);\n",
              "  }\n",
              "\n",
              "  .colab-df-quickchart-complete:disabled,\n",
              "  .colab-df-quickchart-complete:disabled:hover {\n",
              "    background-color: var(--disabled-bg-color);\n",
              "    fill: var(--disabled-fill-color);\n",
              "    box-shadow: none;\n",
              "  }\n",
              "\n",
              "  .colab-df-spinner {\n",
              "    border: 2px solid var(--fill-color);\n",
              "    border-color: transparent;\n",
              "    border-bottom-color: var(--fill-color);\n",
              "    animation:\n",
              "      spin 1s steps(1) infinite;\n",
              "  }\n",
              "\n",
              "  @keyframes spin {\n",
              "    0% {\n",
              "      border-color: transparent;\n",
              "      border-bottom-color: var(--fill-color);\n",
              "      border-left-color: var(--fill-color);\n",
              "    }\n",
              "    20% {\n",
              "      border-color: transparent;\n",
              "      border-left-color: var(--fill-color);\n",
              "      border-top-color: var(--fill-color);\n",
              "    }\n",
              "    30% {\n",
              "      border-color: transparent;\n",
              "      border-left-color: var(--fill-color);\n",
              "      border-top-color: var(--fill-color);\n",
              "      border-right-color: var(--fill-color);\n",
              "    }\n",
              "    40% {\n",
              "      border-color: transparent;\n",
              "      border-right-color: var(--fill-color);\n",
              "      border-top-color: var(--fill-color);\n",
              "    }\n",
              "    60% {\n",
              "      border-color: transparent;\n",
              "      border-right-color: var(--fill-color);\n",
              "    }\n",
              "    80% {\n",
              "      border-color: transparent;\n",
              "      border-right-color: var(--fill-color);\n",
              "      border-bottom-color: var(--fill-color);\n",
              "    }\n",
              "    90% {\n",
              "      border-color: transparent;\n",
              "      border-bottom-color: var(--fill-color);\n",
              "    }\n",
              "  }\n",
              "</style>\n",
              "\n",
              "      <script>\n",
              "        async function quickchart(key) {\n",
              "          const quickchartButtonEl =\n",
              "            document.querySelector('#' + key + ' button');\n",
              "          quickchartButtonEl.disabled = true;  // To prevent multiple clicks.\n",
              "          quickchartButtonEl.classList.add('colab-df-spinner');\n",
              "          try {\n",
              "            const charts = await google.colab.kernel.invokeFunction(\n",
              "                'suggestCharts', [key], {});\n",
              "          } catch (error) {\n",
              "            console.error('Error during call to suggestCharts:', error);\n",
              "          }\n",
              "          quickchartButtonEl.classList.remove('colab-df-spinner');\n",
              "          quickchartButtonEl.classList.add('colab-df-quickchart-complete');\n",
              "        }\n",
              "        (() => {\n",
              "          let quickchartButtonEl =\n",
              "            document.querySelector('#df-715a81a4-1e75-45a3-9aa2-60ab3ae9be18 button');\n",
              "          quickchartButtonEl.style.display =\n",
              "            google.colab.kernel.accessAllowed ? 'block' : 'none';\n",
              "        })();\n",
              "      </script>\n",
              "    </div>\n",
              "\n",
              "    </div>\n",
              "  </div>\n"
            ],
            "application/vnd.google.colaboratory.intrinsic+json": {
              "type": "dataframe",
              "variable_name": "tienda",
              "summary": "{\n  \"name\": \"tienda\",\n  \"rows\": 2359,\n  \"fields\": [\n    {\n      \"column\": \"Producto\",\n      \"properties\": {\n        \"dtype\": \"category\",\n        \"num_unique_values\": 51,\n        \"samples\": [\n          \"Guitarra ac\\u00fastica\",\n          \"Bal\\u00f3n de baloncesto\",\n          \"Smartwatch\"\n        ],\n        \"semantic_type\": \"\",\n        \"description\": \"\"\n      }\n    },\n    {\n      \"column\": \"Categor\\u00eda del Producto\",\n      \"properties\": {\n        \"dtype\": \"category\",\n        \"num_unique_values\": 8,\n        \"samples\": [\n          \"Muebles\",\n          \"Deportes y diversi\\u00f3n\",\n          \"Electr\\u00f3nicos\"\n        ],\n        \"semantic_type\": \"\",\n        \"description\": \"\"\n      }\n    },\n    {\n      \"column\": \"Precio\",\n      \"properties\": {\n        \"dtype\": \"number\",\n        \"std\": 614686.7653873172,\n        \"min\": 7600.0,\n        \"max\": 2977000.0,\n        \"num_unique_values\": 1937,\n        \"samples\": [\n          2499400.0,\n          14800.0,\n          80500.0\n        ],\n        \"semantic_type\": \"\",\n        \"description\": \"\"\n      }\n    },\n    {\n      \"column\": \"Costo de env\\u00edo\",\n      \"properties\": {\n        \"dtype\": \"number\",\n        \"std\": 32860.0017825605,\n        \"min\": 0.0,\n        \"max\": 160800.0,\n        \"num_unique_values\": 753,\n        \"samples\": [\n          117800.0,\n          54700.0,\n          45600.0\n        ],\n        \"semantic_type\": \"\",\n        \"description\": \"\"\n      }\n    },\n    {\n      \"column\": \"Fecha de Compra\",\n      \"properties\": {\n        \"dtype\": \"object\",\n        \"num_unique_values\": 1018,\n        \"samples\": [\n          \"15/09/2022\",\n          \"03/06/2020\",\n          \"06/11/2021\"\n        ],\n        \"semantic_type\": \"\",\n        \"description\": \"\"\n      }\n    },\n    {\n      \"column\": \"Vendedor\",\n      \"properties\": {\n        \"dtype\": \"category\",\n        \"num_unique_values\": 14,\n        \"samples\": [\n          \"Juliana Costa\",\n          \"Mariana Herrera\",\n          \"Pedro Gomez\"\n        ],\n        \"semantic_type\": \"\",\n        \"description\": \"\"\n      }\n    },\n    {\n      \"column\": \"Lugar de Compra\",\n      \"properties\": {\n        \"dtype\": \"category\",\n        \"num_unique_values\": 19,\n        \"samples\": [\n          \"Bogot\\u00e1\",\n          \"Pereira\",\n          \"Neiva\"\n        ],\n        \"semantic_type\": \"\",\n        \"description\": \"\"\n      }\n    },\n    {\n      \"column\": \"Calificaci\\u00f3n\",\n      \"properties\": {\n        \"dtype\": \"number\",\n        \"std\": 1,\n        \"min\": 1,\n        \"max\": 5,\n        \"num_unique_values\": 5,\n        \"samples\": [\n          1,\n          2,\n          5\n        ],\n        \"semantic_type\": \"\",\n        \"description\": \"\"\n      }\n    },\n    {\n      \"column\": \"M\\u00e9todo de pago\",\n      \"properties\": {\n        \"dtype\": \"category\",\n        \"num_unique_values\": 4,\n        \"samples\": [\n          \"Nequi\",\n          \"Tarjeta de d\\u00e9bito\",\n          \"Tarjeta de cr\\u00e9dito\"\n        ],\n        \"semantic_type\": \"\",\n        \"description\": \"\"\n      }\n    },\n    {\n      \"column\": \"Cantidad de cuotas\",\n      \"properties\": {\n        \"dtype\": \"number\",\n        \"std\": 2,\n        \"min\": 1,\n        \"max\": 24,\n        \"num_unique_values\": 15,\n        \"samples\": [\n          7,\n          14,\n          8\n        ],\n        \"semantic_type\": \"\",\n        \"description\": \"\"\n      }\n    },\n    {\n      \"column\": \"lat\",\n      \"properties\": {\n        \"dtype\": \"number\",\n        \"std\": 2.2874452492678627,\n        \"min\": -4.21528,\n        \"max\": 11.54444,\n        \"num_unique_values\": 19,\n        \"samples\": [\n          4.60971,\n          4.81333,\n          2.9273\n        ],\n        \"semantic_type\": \"\",\n        \"description\": \"\"\n      }\n    },\n    {\n      \"column\": \"lon\",\n      \"properties\": {\n        \"dtype\": \"number\",\n        \"std\": 1.2178272727088486,\n        \"min\": -77.28111,\n        \"max\": -67.9239,\n        \"num_unique_values\": 19,\n        \"samples\": [\n          -74.08175,\n          -75.69611,\n          -75.28189\n        ],\n        \"semantic_type\": \"\",\n        \"description\": \"\"\n      }\n    }\n  ]\n}"
            }
          },
          "metadata": {},
          "execution_count": 1
        }
      ],
      "source": [
        "import pandas as pd\n",
        "\n",
        "url = \"https://raw.githubusercontent.com/alura-es-cursos/challenge1-data-science-latam/refs/heads/main/base-de-datos-challenge1-latam/tienda_1%20.csv\"\n",
        "url2 = \"https://raw.githubusercontent.com/alura-es-cursos/challenge1-data-science-latam/refs/heads/main/base-de-datos-challenge1-latam/tienda_2.csv\"\n",
        "url3 = \"https://raw.githubusercontent.com/alura-es-cursos/challenge1-data-science-latam/refs/heads/main/base-de-datos-challenge1-latam/tienda_3.csv\"\n",
        "url4 = \"https://raw.githubusercontent.com/alura-es-cursos/challenge1-data-science-latam/refs/heads/main/base-de-datos-challenge1-latam/tienda_4.csv\"\n",
        "\n",
        "tienda = pd.read_csv(url)\n",
        "tienda2 = pd.read_csv(url2)\n",
        "tienda3 = pd.read_csv(url3)\n",
        "tienda4 = pd.read_csv(url4)\n",
        "\n",
        "tienda.head()"
      ]
    },
    {
      "cell_type": "markdown",
      "source": [
        "#1. Análisis de facturación\n",
        "\n"
      ],
      "metadata": {
        "id": "X62IW3KFUIYm"
      }
    },
    {
      "cell_type": "code",
      "source": [
        "print(tienda.columns)"
      ],
      "metadata": {
        "id": "xykobSftV64I",
        "colab": {
          "base_uri": "https://localhost:8080/"
        },
        "outputId": "6cc64224-4d64-43c7-dc18-029d7635d134"
      },
      "execution_count": 2,
      "outputs": [
        {
          "output_type": "stream",
          "name": "stdout",
          "text": [
            "Index(['Producto', 'Categoría del Producto', 'Precio', 'Costo de envío',\n",
            "       'Fecha de Compra', 'Vendedor', 'Lugar de Compra', 'Calificación',\n",
            "       'Método de pago', 'Cantidad de cuotas', 'lat', 'lon'],\n",
            "      dtype='object')\n"
          ]
        }
      ]
    },
    {
      "cell_type": "code",
      "source": [
        "suma_tienda1 = tienda[\"Precio\"].sum()\n",
        "suma_tienda2 = tienda2[\"Precio\"].sum()\n",
        "suma_tienda3 = tienda3[\"Precio\"].sum()\n",
        "suma_tienda4 = tienda4[\"Precio\"].sum()\n",
        "\n",
        "print(\"Suma de precios - Tienda 1:\", suma_tienda1)\n",
        "print(\"Suma de precios - Tienda 2:\", suma_tienda2)\n",
        "print(\"Suma de precios - Tienda 3:\", suma_tienda3)\n",
        "print(\"Suma de precios - Tienda 4:\", suma_tienda4)"
      ],
      "metadata": {
        "id": "KDyr8E71V3m-",
        "colab": {
          "base_uri": "https://localhost:8080/"
        },
        "outputId": "10dea117-7eef-499d-95d5-7777a72728d5"
      },
      "execution_count": 3,
      "outputs": [
        {
          "output_type": "stream",
          "name": "stdout",
          "text": [
            "Suma de precios - Tienda 1: 1150880400.0\n",
            "Suma de precios - Tienda 2: 1116343500.0\n",
            "Suma de precios - Tienda 3: 1098019600.0\n",
            "Suma de precios - Tienda 4: 1038375700.0\n"
          ]
        }
      ]
    },
    {
      "cell_type": "code",
      "source": [
        "# Suma individual\n",
        "suma_tienda1 = tienda[\"Precio\"].sum()\n",
        "suma_tienda2 = tienda2[\"Precio\"].sum()\n",
        "suma_tienda3 = tienda3[\"Precio\"].sum()\n",
        "suma_tienda4 = tienda4[\"Precio\"].sum()\n",
        "\n",
        "# Suma total\n",
        "facturacionTotal = suma_tienda1 + suma_tienda2 + suma_tienda3 + suma_tienda4\n",
        "\n",
        "print(\"Facturación total de todas las tiendas:\", facturacionTotal)"
      ],
      "metadata": {
        "colab": {
          "base_uri": "https://localhost:8080/"
        },
        "id": "pNv-_ch5_i8Y",
        "outputId": "fa182c31-7742-44e9-8675-5f269b5363c9"
      },
      "execution_count": 4,
      "outputs": [
        {
          "output_type": "stream",
          "name": "stdout",
          "text": [
            "Facturación total de todas las tiendas: 4403619200.0\n"
          ]
        }
      ]
    },
    {
      "cell_type": "markdown",
      "source": [
        "# 2. Ventas por categoría"
      ],
      "metadata": {
        "id": "2V_vcAPzWZmR"
      }
    },
    {
      "cell_type": "code",
      "source": [
        "# Agrupamos por categoría y contamos productos vendidos en cada tienda\n",
        "ventas_tienda1 = tienda.groupby(\"Categoría del Producto\")[\"Producto\"].count().sort_values(ascending=False)\n",
        "ventas_tienda2 = tienda2.groupby(\"Categoría del Producto\")[\"Producto\"].count().sort_values(ascending=False)\n",
        "ventas_tienda3 = tienda3.groupby(\"Categoría del Producto\")[\"Producto\"].count().sort_values(ascending=False)\n",
        "ventas_tienda4 = tienda4.groupby(\"Categoría del Producto\")[\"Producto\"].count().sort_values(ascending=False)\n",
        "\n",
        "print(\"Ventas por categoría - Tienda 1\\n\", ventas_tienda1, \"\\n\")\n",
        "print(\"Ventas por categoría - Tienda 2\\n\", ventas_tienda2, \"\\n\")\n",
        "print(\"Ventas por categoría - Tienda 3\\n\", ventas_tienda3, \"\\n\")\n",
        "print(\"Ventas por categoría - Tienda 4\\n\", ventas_tienda4, \"\\n\")\n"
      ],
      "metadata": {
        "id": "A34YupIuYhfF",
        "colab": {
          "base_uri": "https://localhost:8080/"
        },
        "outputId": "a29e6a7d-3290-4b43-a30e-34a7113850a3"
      },
      "execution_count": 5,
      "outputs": [
        {
          "output_type": "stream",
          "name": "stdout",
          "text": [
            "Ventas por categoría - Tienda 1\n",
            " Categoría del Producto\n",
            "Muebles                    465\n",
            "Electrónicos               448\n",
            "Juguetes                   324\n",
            "Electrodomésticos          312\n",
            "Deportes y diversión       284\n",
            "Instrumentos musicales     182\n",
            "Libros                     173\n",
            "Artículos para el hogar    171\n",
            "Name: Producto, dtype: int64 \n",
            "\n",
            "Ventas por categoría - Tienda 2\n",
            " Categoría del Producto\n",
            "Muebles                    442\n",
            "Electrónicos               422\n",
            "Juguetes                   313\n",
            "Electrodomésticos          305\n",
            "Deportes y diversión       275\n",
            "Instrumentos musicales     224\n",
            "Libros                     197\n",
            "Artículos para el hogar    181\n",
            "Name: Producto, dtype: int64 \n",
            "\n",
            "Ventas por categoría - Tienda 3\n",
            " Categoría del Producto\n",
            "Muebles                    499\n",
            "Electrónicos               451\n",
            "Juguetes                   315\n",
            "Electrodomésticos          278\n",
            "Deportes y diversión       277\n",
            "Libros                     185\n",
            "Artículos para el hogar    177\n",
            "Instrumentos musicales     177\n",
            "Name: Producto, dtype: int64 \n",
            "\n",
            "Ventas por categoría - Tienda 4\n",
            " Categoría del Producto\n",
            "Muebles                    480\n",
            "Electrónicos               451\n",
            "Juguetes                   338\n",
            "Deportes y diversión       277\n",
            "Electrodomésticos          254\n",
            "Artículos para el hogar    201\n",
            "Libros                     187\n",
            "Instrumentos musicales     170\n",
            "Name: Producto, dtype: int64 \n",
            "\n"
          ]
        }
      ]
    },
    {
      "cell_type": "code",
      "source": [],
      "metadata": {
        "id": "yZR6cOjXYSk1"
      },
      "execution_count": null,
      "outputs": []
    },
    {
      "cell_type": "markdown",
      "source": [
        "# 3. Calificación promedio de la tienda\n"
      ],
      "metadata": {
        "id": "Rq6tU_xSY3jk"
      }
    },
    {
      "cell_type": "code",
      "source": [
        "# Calificación promedio por cada tienda\n",
        "calif_tienda1 = tienda[\"Calificación\"].mean()\n",
        "calif_tienda2 = tienda2[\"Calificación\"].mean()\n",
        "calif_tienda3 = tienda3[\"Calificación\"].mean()\n",
        "calif_tienda4 = tienda4[\"Calificación\"].mean()\n",
        "\n",
        "print(\"Calificación promedio - Tienda 1:\", calif_tienda1)\n",
        "print(\"Calificación promedio - Tienda 2:\", calif_tienda2)\n",
        "print(\"Calificación promedio - Tienda 3:\", calif_tienda3)\n",
        "print(\"Calificación promedio - Tienda 4:\", calif_tienda4)\n"
      ],
      "metadata": {
        "id": "bh3jjjJwY5MU",
        "colab": {
          "base_uri": "https://localhost:8080/"
        },
        "outputId": "9d001c87-f606-4e3b-ae5c-4c9f07f9b034"
      },
      "execution_count": 6,
      "outputs": [
        {
          "output_type": "stream",
          "name": "stdout",
          "text": [
            "Calificación promedio - Tienda 1: 3.976685036032217\n",
            "Calificación promedio - Tienda 2: 4.037303942348453\n",
            "Calificación promedio - Tienda 3: 4.048325561678677\n",
            "Calificación promedio - Tienda 4: 3.9957591178965224\n"
          ]
        }
      ]
    },
    {
      "cell_type": "code",
      "source": [],
      "metadata": {
        "id": "I0KkjPoTY88F"
      },
      "execution_count": null,
      "outputs": []
    },
    {
      "cell_type": "markdown",
      "source": [
        "# 4. Productos más y menos vendidos"
      ],
      "metadata": {
        "id": "DmNp1KPBZCm-"
      }
    },
    {
      "cell_type": "code",
      "source": [
        "# Productos más y menos vendidos en Tienda 1\n",
        "ventas_prod_t1 = tienda.groupby(\"Producto\")[\"Producto\"].count().sort_values(ascending=False)\n",
        "mas_vendido_t1 = ventas_prod_t1.head(1)\n",
        "menos_vendido_t1 = ventas_prod_t1.tail(1)\n",
        "\n",
        "# Tienda 2\n",
        "ventas_prod_t2 = tienda2.groupby(\"Producto\")[\"Producto\"].count().sort_values(ascending=False)\n",
        "mas_vendido_t2 = ventas_prod_t2.head(1)\n",
        "menos_vendido_t2 = ventas_prod_t2.tail(1)\n",
        "\n",
        "# Tienda 3\n",
        "ventas_prod_t3 = tienda3.groupby(\"Producto\")[\"Producto\"].count().sort_values(ascending=False)\n",
        "mas_vendido_t3 = ventas_prod_t3.head(1)\n",
        "menos_vendido_t3 = ventas_prod_t3.tail(1)\n",
        "\n",
        "# Tienda 4\n",
        "ventas_prod_t4 = tienda4.groupby(\"Producto\")[\"Producto\"].count().sort_values(ascending=False)\n",
        "mas_vendido_t4 = ventas_prod_t4.head(1)\n",
        "menos_vendido_t4 = ventas_prod_t4.tail(1)\n",
        "\n",
        "print(\"📌 Tienda 1\\nMás vendido:\\n\", mas_vendido_t1, \"\\nMenos vendido:\\n\", menos_vendido_t1, \"\\n\")\n",
        "print(\"📌 Tienda 2\\nMás vendido:\\n\", mas_vendido_t2, \"\\nMenos vendido:\\n\", menos_vendido_t2, \"\\n\")\n",
        "print(\"📌 Tienda 3\\nMás vendido:\\n\", mas_vendido_t3, \"\\nMenos vendido:\\n\", menos_vendido_t3, \"\\n\")\n",
        "print(\"📌 Tienda 4\\nMás vendido:\\n\", mas_vendido_t4, \"\\nMenos vendido:\\n\", menos_vendido_t4, \"\\n\")\n"
      ],
      "metadata": {
        "id": "qoyjqijQZHfF",
        "colab": {
          "base_uri": "https://localhost:8080/"
        },
        "outputId": "1d64dc6f-8c2f-4d7a-ce68-a4c980b4d3b5"
      },
      "execution_count": 7,
      "outputs": [
        {
          "output_type": "stream",
          "name": "stdout",
          "text": [
            "📌 Tienda 1\n",
            "Más vendido:\n",
            " Producto\n",
            "Armario    60\n",
            "Name: Producto, dtype: int64 \n",
            "Menos vendido:\n",
            " Producto\n",
            "Auriculares con micrófono    33\n",
            "Name: Producto, dtype: int64 \n",
            "\n",
            "📌 Tienda 2\n",
            "Más vendido:\n",
            " Producto\n",
            "Iniciando en programación    65\n",
            "Name: Producto, dtype: int64 \n",
            "Menos vendido:\n",
            " Producto\n",
            "Juego de mesa    32\n",
            "Name: Producto, dtype: int64 \n",
            "\n",
            "📌 Tienda 3\n",
            "Más vendido:\n",
            " Producto\n",
            "Kit de bancas    57\n",
            "Name: Producto, dtype: int64 \n",
            "Menos vendido:\n",
            " Producto\n",
            "Bloques de construcción    35\n",
            "Name: Producto, dtype: int64 \n",
            "\n",
            "📌 Tienda 4\n",
            "Más vendido:\n",
            " Producto\n",
            "Cama box    62\n",
            "Name: Producto, dtype: int64 \n",
            "Menos vendido:\n",
            " Producto\n",
            "Guitarra eléctrica    33\n",
            "Name: Producto, dtype: int64 \n",
            "\n"
          ]
        }
      ]
    },
    {
      "cell_type": "code",
      "source": [],
      "metadata": {
        "id": "0Sw3sd4IZIGW"
      },
      "execution_count": null,
      "outputs": []
    },
    {
      "cell_type": "markdown",
      "source": [
        "# 5. Envío promedio por tienda"
      ],
      "metadata": {
        "id": "Fl0cGi3bZKqU"
      }
    },
    {
      "cell_type": "code",
      "source": [
        "# Calcular el costo de envío promedio en cada tienda\n",
        "envio_t1 = tienda[\"Costo de envío\"].mean()\n",
        "envio_t2 = tienda2[\"Costo de envío\"].mean()\n",
        "envio_t3 = tienda3[\"Costo de envío\"].mean()\n",
        "envio_t4 = tienda4[\"Costo de envío\"].mean()\n",
        "\n",
        "print(\"Costo de envío promedio - Tienda 1:\", envio_t1)\n",
        "print(\"Costo de envío promedio - Tienda 2:\", envio_t2)\n",
        "print(\"Costo de envío promedio - Tienda 3:\", envio_t3)\n",
        "print(\"Costo de envío promedio - Tienda 4:\", envio_t4)\n"
      ],
      "metadata": {
        "id": "S2JeaCykZNy9",
        "colab": {
          "base_uri": "https://localhost:8080/"
        },
        "outputId": "b26b140a-86ae-4da5-c003-75a04b8aec18"
      },
      "execution_count": 8,
      "outputs": [
        {
          "output_type": "stream",
          "name": "stdout",
          "text": [
            "Costo de envío promedio - Tienda 1: 26018.60958033065\n",
            "Costo de envío promedio - Tienda 2: 25216.235693090293\n",
            "Costo de envío promedio - Tienda 3: 24805.680373039424\n",
            "Costo de envío promedio - Tienda 4: 23459.457167090754\n"
          ]
        }
      ]
    },
    {
      "cell_type": "code",
      "source": [
        "print(\"\"\"\n",
        "📊 Informe Final: Selección de la Tienda para el Sr. Juan\n",
        "\n",
        "Introducción\n",
        "El presente informe tiene como propósito analizar el desempeño de cuatro tiendas con el fin de recomendar al Sr. Juan en cuál de ellas debería comercializar sus productos.\n",
        "Para ello, se evaluaron cinco factores clave: facturación total, categorías más y menos vendidas, calificaciones promedio de los clientes, productos más y menos vendidos,\n",
        "y costo de envío promedio. El objetivo es identificar la tienda que ofrezca un mejor equilibrio entre ventas, satisfacción del cliente y eficiencia operativa.\n",
        "\n",
        "----------------------------------------------------\n",
        "1. Facturación\n",
        "La facturación total de las cuatro tiendas fue de 4,403,619,200.0.\n",
        "- Tienda 1: 1,150,880,400.0 (mayor facturación).\n",
        "- Tienda 2: 1,116,343,500.0.\n",
        "- Tienda 3: 1,098,019,600.0.\n",
        "- Tienda 4: 1,038,375,700.0 (menor facturación).\n",
        "Conclusión: La Tienda 1 lidera en ingresos, lo cual refleja mayor volumen de ventas.\n",
        "\n",
        "----------------------------------------------------\n",
        "2. Categorías de productos\n",
        "En todas las tiendas, las categorías con mayor demanda fueron Muebles y Electrónicos, seguidas por Juguetes y Electrodomésticos.\n",
        "Las categorías menos vendidas fueron Artículos para el hogar, Libros e Instrumentos musicales.\n",
        "Conclusión: El mercado de muebles y electrónicos es consistente en todas las tiendas, representando una oportunidad de ventas seguras.\n",
        "\n",
        "----------------------------------------------------\n",
        "3. Calificaciones promedio\n",
        "- Tienda 1: 3.97 (la más baja).\n",
        "- Tienda 2: 4.03.\n",
        "- Tienda 3: 4.05 (la más alta).\n",
        "- Tienda 4: 3.99.\n",
        "Conclusión: La Tienda 3 es la mejor evaluada por los clientes, lo que sugiere un mayor nivel de satisfacción y confianza.\n",
        "\n",
        "----------------------------------------------------\n",
        "4. Productos más y menos vendidos\n",
        "- Tienda 1: más vendido → Armario (60) | menos vendido → Auriculares con micrófono (33).\n",
        "- Tienda 2: más vendido → Iniciando en programación (65) | menos vendido → Juego de mesa (32).\n",
        "- Tienda 3: más vendido → Kit de bancas (57) | menos vendido → Bloques de construcción (35).\n",
        "- Tienda 4: más vendido → Cama box (62) | menos vendido → Guitarra eléctrica (33).\n",
        "Conclusión: Los productos más vendidos están relacionados con muebles y educación, mientras que los menos vendidos tienden a ser accesorios o productos especializados.\n",
        "\n",
        "----------------------------------------------------\n",
        "5. Costo de envío promedio\n",
        "- Tienda 1: 26,018.60 (más alto).\n",
        "- Tienda 2: 25,216.23.\n",
        "- Tienda 3: 24,805.68.\n",
        "- Tienda 4: 23,459.45 (más bajo).\n",
        "Conclusión: La Tienda 4 es la más eficiente en costos de envío, lo cual puede beneficiar los márgenes de ganancia.\n",
        "\n",
        "----------------------------------------------------\n",
        "Conclusión final\n",
        "Al analizar los indicadores:\n",
        "- Tienda 1 destaca en facturación, pero presenta el costo de envío más alto y la calificación promedio más baja.\n",
        "- Tienda 2 mantiene un equilibrio aceptable, aunque no lidera en ningún indicador.\n",
        "- Tienda 3 sobresale en calificación de clientes (4.05, la más alta) y mantiene buenos niveles de facturación y categorías consistentes, con costos de envío competitivos.\n",
        "- Tienda 4 tiene el costo de envío más bajo, pero también la facturación más reducida, lo que puede limitar el potencial de ventas.\n",
        "\n",
        "Recomendación: El Sr. Juan debería vender en la Tienda 3.\n",
        "La razón principal es que esta tienda combina de manera más equilibrada: alto nivel de satisfacción del cliente, facturación sólida, categorías de alta demanda y costos de envío relativamente competitivos.\n",
        "Aunque Tienda 1 factura más, su baja calificación y alto costo de envío pueden afectar la percepción de los clientes. En cambio, Tienda 3 representa un mercado confiable, estable y con buena reputación para crecer a largo plazo.\n",
        "\"\"\")\n"
      ],
      "metadata": {
        "id": "0tSdCie9ZQlt",
        "colab": {
          "base_uri": "https://localhost:8080/"
        },
        "outputId": "3308a0f7-a108-47ec-c3dd-b4f808ce1275"
      },
      "execution_count": 9,
      "outputs": [
        {
          "output_type": "stream",
          "name": "stdout",
          "text": [
            "\n",
            "📊 Informe Final: Selección de la Tienda para el Sr. Juan\n",
            "\n",
            "Introducción\n",
            "El presente informe tiene como propósito analizar el desempeño de cuatro tiendas con el fin de recomendar al Sr. Juan en cuál de ellas debería comercializar sus productos. \n",
            "Para ello, se evaluaron cinco factores clave: facturación total, categorías más y menos vendidas, calificaciones promedio de los clientes, productos más y menos vendidos, \n",
            "y costo de envío promedio. El objetivo es identificar la tienda que ofrezca un mejor equilibrio entre ventas, satisfacción del cliente y eficiencia operativa.\n",
            "\n",
            "----------------------------------------------------\n",
            "1. Facturación\n",
            "La facturación total de las cuatro tiendas fue de 4,403,619,200.0.\n",
            "- Tienda 1: 1,150,880,400.0 (mayor facturación).\n",
            "- Tienda 2: 1,116,343,500.0.\n",
            "- Tienda 3: 1,098,019,600.0.\n",
            "- Tienda 4: 1,038,375,700.0 (menor facturación).\n",
            "Conclusión: La Tienda 1 lidera en ingresos, lo cual refleja mayor volumen de ventas.\n",
            "\n",
            "----------------------------------------------------\n",
            "2. Categorías de productos\n",
            "En todas las tiendas, las categorías con mayor demanda fueron Muebles y Electrónicos, seguidas por Juguetes y Electrodomésticos.\n",
            "Las categorías menos vendidas fueron Artículos para el hogar, Libros e Instrumentos musicales.\n",
            "Conclusión: El mercado de muebles y electrónicos es consistente en todas las tiendas, representando una oportunidad de ventas seguras.\n",
            "\n",
            "----------------------------------------------------\n",
            "3. Calificaciones promedio\n",
            "- Tienda 1: 3.97 (la más baja).\n",
            "- Tienda 2: 4.03.\n",
            "- Tienda 3: 4.05 (la más alta).\n",
            "- Tienda 4: 3.99.\n",
            "Conclusión: La Tienda 3 es la mejor evaluada por los clientes, lo que sugiere un mayor nivel de satisfacción y confianza.\n",
            "\n",
            "----------------------------------------------------\n",
            "4. Productos más y menos vendidos\n",
            "- Tienda 1: más vendido → Armario (60) | menos vendido → Auriculares con micrófono (33).\n",
            "- Tienda 2: más vendido → Iniciando en programación (65) | menos vendido → Juego de mesa (32).\n",
            "- Tienda 3: más vendido → Kit de bancas (57) | menos vendido → Bloques de construcción (35).\n",
            "- Tienda 4: más vendido → Cama box (62) | menos vendido → Guitarra eléctrica (33).\n",
            "Conclusión: Los productos más vendidos están relacionados con muebles y educación, mientras que los menos vendidos tienden a ser accesorios o productos especializados.\n",
            "\n",
            "----------------------------------------------------\n",
            "5. Costo de envío promedio\n",
            "- Tienda 1: 26,018.60 (más alto).\n",
            "- Tienda 2: 25,216.23.\n",
            "- Tienda 3: 24,805.68.\n",
            "- Tienda 4: 23,459.45 (más bajo).\n",
            "Conclusión: La Tienda 4 es la más eficiente en costos de envío, lo cual puede beneficiar los márgenes de ganancia.\n",
            "\n",
            "----------------------------------------------------\n",
            "Conclusión final\n",
            "Al analizar los indicadores:\n",
            "- Tienda 1 destaca en facturación, pero presenta el costo de envío más alto y la calificación promedio más baja.\n",
            "- Tienda 2 mantiene un equilibrio aceptable, aunque no lidera en ningún indicador.\n",
            "- Tienda 3 sobresale en calificación de clientes (4.05, la más alta) y mantiene buenos niveles de facturación y categorías consistentes, con costos de envío competitivos.\n",
            "- Tienda 4 tiene el costo de envío más bajo, pero también la facturación más reducida, lo que puede limitar el potencial de ventas.\n",
            "\n",
            "Recomendación: El Sr. Juan debería vender en la Tienda 3.\n",
            "La razón principal es que esta tienda combina de manera más equilibrada: alto nivel de satisfacción del cliente, facturación sólida, categorías de alta demanda y costos de envío relativamente competitivos.\n",
            "Aunque Tienda 1 factura más, su baja calificación y alto costo de envío pueden afectar la percepción de los clientes. En cambio, Tienda 3 representa un mercado confiable, estable y con buena reputación para crecer a largo plazo.\n",
            "\n"
          ]
        }
      ]
    }
  ]
}